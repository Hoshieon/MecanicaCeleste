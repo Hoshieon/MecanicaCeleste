{
 "cells": [
  {
   "cell_type": "code",
   "execution_count": 1,
   "metadata": {},
   "outputs": [
    {
     "name": "stdout",
     "output_type": "stream",
     "text": [
      "A continuación escriba las componentes del vector posición de m2 en coordenadas heliocéntricas eclípticas\n",
      "x2.7\n",
      "y-4.2\n",
      "z-0.04\n"
     ]
    }
   ],
   "source": [
    "#programa para determinar elementos orbitales del planeta asumiendo elipse instantánea en ese punto\n",
    "\n",
    "from numpy import *\n",
    "from astropy import \n",
    "\n",
    "print(\"A continuación escriba las componentes del vector posición de m2 en coordenadas heliocéntricas eclípticas\")\n",
    "\n",
    "x=float(input(\"x\"))\n",
    "y=float(input(\"y\"))\n",
    "z=float(input(\"z\"))\n"
   ]
  },
  {
   "cell_type": "code",
   "execution_count": null,
   "metadata": {},
   "outputs": [],
   "source": [
    "print(\"Ahora escriba las componentes del vector velocidad \")\n",
    "vx=float(input(\"vx\"))\n",
    "vy=float(input(\"vy\"))\n",
    "vz=float(input(\"vz\"))\n"
   ]
  },
  {
   "cell_type": "code",
   "execution_count": null,
   "metadata": {},
   "outputs": [],
   "source": [
    "r = (x**2+y**2+z**2)**(0.5)\n",
    "print(\"El vector r es {:.8f}.format(r)\")\n",
    "v = (vx**2+vy**2+vz**2)**(0.5)\n",
    "print(\"El vector v es {:.8f}.format(v)\")\n"
   ]
  },
  {
   "cell_type": "code",
   "execution_count": 5,
   "metadata": {},
   "outputs": [
    {
     "name": "stdout",
     "output_type": "stream",
     "text": [
      "m12e30\n",
      "m21.9e27\n",
      "La razon entre la masa 2 y la masa 1 es0.000950\n"
     ]
    }
   ],
   "source": [
    "m1=float(input(\"m1\"))\n",
    "m2=float(input(\"m2\"))\n",
    "mr=(m2/m1)\n",
    "print(\"La razon entre la masa 2 y la masa 1 es{:f}\".format(mr))"
   ]
  },
  {
   "cell_type": "code",
   "execution_count": null,
   "metadata": {},
   "outputs": [],
   "source": []
  }
 ],
 "metadata": {
  "kernelspec": {
   "display_name": "Python 3",
   "language": "python",
   "name": "python3"
  },
  "language_info": {
   "codemirror_mode": {
    "name": "ipython",
    "version": 3
   },
   "file_extension": ".py",
   "mimetype": "text/x-python",
   "name": "python",
   "nbconvert_exporter": "python",
   "pygments_lexer": "ipython3",
   "version": "3.6.4"
  }
 },
 "nbformat": 4,
 "nbformat_minor": 2
}
